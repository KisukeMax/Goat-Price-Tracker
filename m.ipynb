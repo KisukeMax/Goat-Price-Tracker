{
 "cells": [
  {
   "cell_type": "code",
   "execution_count": null,
   "metadata": {},
   "outputs": [],
   "source": [
    "import discord\n",
    "import os\n",
    "from discord.ext import commands\n",
    "import requests\n",
    "import json\n",
    "from tabulate import tabulate\n",
    "import asyncio\n",
    "import pandas as pd"
   ]
  },
  {
   "cell_type": "code",
   "execution_count": null,
   "metadata": {},
   "outputs": [],
   "source": [
    "keywords = \"553558-612\"\n",
    "selection = 0\n",
    "\n",
    "json_string = json.dumps({\"params\": f\"distinct=true&facetFilters=()&facets=%5B%22size%22%5D&hitsPerPage=20&numericFilters=%5B%5D&page=0&query={keywords}\"})\n",
    "byte_payload = bytes(json_string, 'utf-8')\n",
    "params = {\n",
    "    \"x-algolia-agent\": \"Algolia for vanilla JavaScript 3.25.1\", \n",
    "    \"x-algolia-application-id\": \"2FWOTDVM2O\", \n",
    "    \"x-algolia-api-key\": \"ac96de6fef0e02bb95d433d8d5c7038a\"\n",
    "}\n",
    "header = {\n",
    "    'accept': 'application/json',\n",
    "    'user-agent': 'Mozilla/5.0 (Windows NT 10.0; Win64; x64) AppleWebKit/537.36 (KHTML, like Gecko) Chrome/71.0.3578.98 Safari/537.36',\n",
    "    'accept-language': 'en-us',\n",
    "    'accept-encoding': 'br,gzip,deflate'\n",
    "}\n",
    "with requests.Session() as s:\n",
    "    r = s.post(\"https://2fwotdvm2o-dsn.algolia.net/1/indexes/product_variants_v2/query\", params=params, verify=False, data=byte_payload, timeout=30)\n",
    "    \n",
    "# print( r.json()[\"hits\"])\n",
    "results = r.json()[\"hits\"][selection]\n",
    "generalAPI = f\"https://www.goat.com/api/v1/product_templates/{results['slug']}/show_v2\"\n",
    "offerAPI = f\"https://www.goat.com/api/v1/highest_offers?productTemplateId={results['id']}\"\n",
    "askAPI = f\"https://www.goat.com/api/v1/product_variants?productTemplateId={results['slug']}\"\n",
    "general = requests.get(generalAPI, headers=header).json()\n",
    "bids = requests.get(offerAPI, headers=header).json()\n",
    "asks = requests.get(askAPI, headers=header).json()\n",
    "link = f\"https://goat.com/sneakers/{results['slug']}\"\n",
    "\n",
    "# with open(\"gen.json\" , \"w\")\n",
    "\n"
   ]
  },
  {
   "cell_type": "code",
   "execution_count": null,
   "metadata": {},
   "outputs": [],
   "source": [
    "priceDict = {}\n",
    "for size in general['sizeOptions']:\n",
    "        priceDict[float(size[\"value\"])] = {\"ask\": 0, \"bid\": 0}\n",
    "        \n",
    "for ask in general['availableSizesNewV2']:\n",
    "    # print(ask)\n",
    "    if ask[2] == \"good_condition\":\n",
    "        priceDict[float(ask[0])][\"ask\"] = ask[1][:-2]\n",
    "for bid in bids:\n",
    "    if bid[\"size\"] in priceDict:\n",
    "        priceDict[bid[\"size\"]][\"bid\"] = str(bid[\"offerAmountCents\"][\"amountUsdCents\"])[:-2]\n",
    "        # print(priceDict[bid[\"size\"]][\"bid\"]  , str(bid[\"offerAmountCents\"][\"amountUsdCents\"])[:-2])\n",
    "for ask in asks:\n",
    "    if ask[\"boxCondition\"] == \"good_condition\":\n",
    "        priceDict[ask[\"size\"]][\"ask\"] = str(ask[\"lowestPriceCents\"][\"amountUsdCents\"])[:-2]\n",
    "        # print(ask ,str(ask[\"lowestPriceCents\"][\"amountUsdCents\"])[:-2])\n",
    "\n",
    "if general[\"productCategory\"] == \"clothing\":\n",
    "    priceDict2 = {}\n",
    "    for size in priceDict:\n",
    "        for size2 in general[\"sizeOptions\"]:\n",
    "            if size == size2[\"value\"]:\n",
    "                priceDict2[size2[\"presentation\"].upper()] = priceDict[size]\n",
    "    priceDict = priceDict2\n",
    "    priceDict = {k: v for k,v in priceDict.items() if v[\"ask\"] != 0 or v[\"bid\"] != 0}"
   ]
  },
  {
   "cell_type": "code",
   "execution_count": null,
   "metadata": {},
   "outputs": [],
   "source": [
    "import pandas as pd\n",
    "df = pd.DataFrame(bids)\n",
    "df.to_csv(\"bids.csv\" , index = False)"
   ]
  },
  {
   "cell_type": "code",
   "execution_count": null,
   "metadata": {},
   "outputs": [],
   "source": [
    "with open(\"asks.json\" , \"w\" , encoding=\"utf8\") as f:\n",
    "    f.write(str(asks))"
   ]
  },
  {
   "cell_type": "code",
   "execution_count": null,
   "metadata": {},
   "outputs": [],
   "source": [
    "\n",
    "counter = 0 \n",
    "for ask in asks:\n",
    "    if ask[\"boxCondition\"] == \"good_condition\":\n",
    "        # print(priceDict[ask[\"size\"]][\"ask\"]  , str(ask[\"lowestPriceCents\"][\"amountUsdCents\"])[:-2])\n",
    "        priceDict[ask[\"size\"]][\"ask\"] = str(ask[\"lowestPriceCents\"][\"amountUsdCents\"])[:-2]\n",
    "        # print(ask ,str(ask[\"lowestPriceCents\"][\"amountUsdCents\"])[:-2])\n",
    "        counter += 1 \n",
    "priceDict"
   ]
  },
  {
   "cell_type": "code",
   "execution_count": null,
   "metadata": {},
   "outputs": [],
   "source": [
    "priceDict = {k: v for k,v in priceDict.items() if v[\"ask\"] != 0 or v[\"bid\"] != 0}"
   ]
  },
  {
   "cell_type": "code",
   "execution_count": null,
   "metadata": {},
   "outputs": [],
   "source": [
    "priceDict.get(3.5)"
   ]
  },
  {
   "cell_type": "code",
   "execution_count": null,
   "metadata": {},
   "outputs": [],
   "source": [
    "df = pd.read_excel(\"report.xlsx\")\n",
    "df"
   ]
  },
  {
   "cell_type": "code",
   "execution_count": 22,
   "metadata": {},
   "outputs": [
    {
     "name": "stdout",
     "output_type": "stream",
     "text": [
      "553558-612\n",
      "5\n",
      "553558-612\n",
      "4545545\n",
      "5\n",
      "553558-612\n",
      "553558-612\n",
      "BQ6817-011\n",
      "5\n",
      "BQ6817-011\n",
      "DC7267-500\n",
      "5\n",
      "DC7267-500\n",
      "553560-607\n",
      "5\n",
      "553560-607\n",
      "DH4401-100\n",
      "5\n",
      "DH4401-100\n",
      "DH4401-100\n",
      "DN4321-100\n",
      "5\n",
      "HQ6316\n",
      "5\n",
      "DD1503-101\n",
      "5\n",
      "HQ4540\n",
      "5\n",
      "HQ6316\n",
      "DH6933-100\n",
      "5\n",
      "554724-078\n",
      "5\n",
      "555112-103\n",
      "5\n",
      "BQ6472-015\n",
      "5\n",
      "BQ6472-105\n",
      "5\n",
      "BQ6472-141\n",
      "5\n",
      "DH6927-111\n",
      "5\n",
      "553558-053\n",
      "5\n",
      "553558-052\n",
      "5\n",
      "554725-175\n",
      "5\n",
      "BQ6472-500\n",
      "5\n"
     ]
    },
    {
     "data": {
      "text/plain": [
       "21"
      ]
     },
     "execution_count": 22,
     "metadata": {},
     "output_type": "execute_result"
    }
   ],
   "source": [
    "Fetched_sku = {}\n",
    "\n",
    "for i ,  row in df.iterrows():\n",
    "    if not pd.isnull(row.get(\"SKU\")):\n",
    "        print(row.get(\"SKU\"))\n",
    "        if not Fetched_sku.get(row.get(\"SKU\")):\n",
    "            Fetched_sku[row.get(\"SKU\")] = \n",
    "            \n",
    "            \n",
    "len(Fetched_sku)"
   ]
  }
 ],
 "metadata": {
  "kernelspec": {
   "display_name": "Python 3.10.8 64-bit",
   "language": "python",
   "name": "python3"
  },
  "language_info": {
   "codemirror_mode": {
    "name": "ipython",
    "version": 3
   },
   "file_extension": ".py",
   "mimetype": "text/x-python",
   "name": "python",
   "nbconvert_exporter": "python",
   "pygments_lexer": "ipython3",
   "version": "3.10.8"
  },
  "orig_nbformat": 4,
  "vscode": {
   "interpreter": {
    "hash": "26de051ba29f2982a8de78e945f0abaf191376122a1563185a90213a26c5da77"
   }
  }
 },
 "nbformat": 4,
 "nbformat_minor": 2
}
