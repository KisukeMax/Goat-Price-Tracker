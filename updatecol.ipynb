{
 "cells": [
  {
   "cell_type": "code",
   "execution_count": null,
   "metadata": {},
   "outputs": [],
   "source": [
    "import gspread\n",
    "import json\n",
    "import pandas as pd\n",
    "from tqdm import tqdm\n",
    "from oauth2client.service_account import ServiceAccountCredentials\n",
    "import requests\n",
    "import urllib3\n",
    "from fake_useragent import FakeUserAgent\n",
    "import time\n",
    "import random\n"
   ]
  },
  {
   "cell_type": "code",
   "execution_count": null,
   "metadata": {},
   "outputs": [],
   "source": [
    "scope_app =['https://spreadsheets.google.com/feeds','https://www.googleapis.com/auth/drive'] \n",
    "    # #credentials to the account\n",
    "cred = ServiceAccountCredentials.from_json_keyfile_name('config.json',scope_app) \n",
    "\n",
    "    # # authorize the clientsheet \n",
    "client = gspread.authorize(cred)\n",
    "\n",
    "print(client.list_spreadsheet_files())\n",
    "\n",
    "    # #open sheet to update\n",
    "googlesheet = client.open('JJ SNEAKERS STORE')\n",
    "    # #open Tab in sheet to update\n",
    "worksheet1 = googlesheet.worksheet(\"Goat Check\")\n",
    "worksheet_dataframe = pd.DataFrame(worksheet1.get_all_records())\n"
   ]
  },
  {
   "cell_type": "code",
   "execution_count": 25,
   "metadata": {},
   "outputs": [
    {
     "name": "stdout",
     "output_type": "stream",
     "text": [
      "[['1k'], ['k2'], ['k3'], ['k4'], [5], [10]]\n"
     ]
    },
    {
     "data": {
      "text/plain": [
       "{'spreadsheetId': '14wMv54sQfYIKn_93KjkECq8ddWFO9-mz_5shbp6-XDc',\n",
       " 'updatedRange': 'testcol!A2:A7',\n",
       " 'updatedRows': 6,\n",
       " 'updatedColumns': 1,\n",
       " 'updatedCells': 6}"
      ]
     },
     "execution_count": 25,
     "metadata": {},
     "output_type": "execute_result"
    }
   ],
   "source": [
    "df = pd.DataFrame(worksheet_dataframe)\n",
    "m = []\n",
    "data = [\"1k\", \"\" ,\"k2\",\"k3\",\"k4\" , 5 , 10 ]\n",
    "def extractDigits(lst):\n",
    "    return [[el] for el in lst]\n",
    "\n",
    "m = extractDigits(data)\n",
    "print(m)\n",
    "worksheet2 = googlesheet.worksheet(\"testcol\")\n",
    "worksheet2.update(\"A2:A\" , m)\n"
   ]
  }
 ],
 "metadata": {
  "kernelspec": {
   "display_name": "Python 3.10.8 64-bit",
   "language": "python",
   "name": "python3"
  },
  "language_info": {
   "codemirror_mode": {
    "name": "ipython",
    "version": 3
   },
   "file_extension": ".py",
   "mimetype": "text/x-python",
   "name": "python",
   "nbconvert_exporter": "python",
   "pygments_lexer": "ipython3",
   "version": "3.10.8"
  },
  "orig_nbformat": 4,
  "vscode": {
   "interpreter": {
    "hash": "26de051ba29f2982a8de78e945f0abaf191376122a1563185a90213a26c5da77"
   }
  }
 },
 "nbformat": 4,
 "nbformat_minor": 2
}
